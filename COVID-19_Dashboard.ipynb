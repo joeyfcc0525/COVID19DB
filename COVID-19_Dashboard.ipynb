{
 "cells": [
  {
   "cell_type": "markdown",
   "metadata": {},
   "source": [
    "# COVID-19 Dashboard"
   ]
  },
  {
   "cell_type": "markdown",
   "metadata": {},
   "source": [
    "This dashboard displays the UK data of COVID-19 cases recorded from January 2020 until now. "
   ]
  },
  {
   "cell_type": "code",
   "execution_count": 33,
   "metadata": {},
   "outputs": [],
   "source": [
    "from uk_covid19 import Cov19API\n",
    "import json\n",
    "import pandas as pd\n",
    "import matplotlib.pyplot as plt\n",
    "import ipywidgets as wdg\n",
    "\n",
    "%matplotlib inline\n",
    "plt.rcParams['figure.dpi'] = 100\n",
    "\n",
    "from datetime import datetime"
   ]
  },
  {
   "cell_type": "markdown",
   "metadata": {},
   "source": [
    "## COVID-19 Cases, Hospital Admissions and Deaths"
   ]
  },
  {
   "cell_type": "markdown",
   "metadata": {},
   "source": [
    "The following graph displays the daily figures of COVID-19 cases, hospital admissions and deaths in the UK. \n",
    "You can CTRL-click to select multiple categories. To get updated data, click on the \"Refresh data\" button underneath the graph."
   ]
  },
  {
   "cell_type": "code",
   "execution_count": 34,
   "metadata": {},
   "outputs": [],
   "source": [
    "def access_api2(): \n",
    "    filters = ['areaType=nation',\n",
    "               'areaName=England']\n",
    "    structure = {\n",
    "        \"date\": \"date\",\n",
    "        \"cases\": \"newCasesByPublishDate\",\n",
    "        \"hospital\": \"newAdmissions\",\n",
    "        \"deaths\": \"newDeathsByDeathDate\"\n",
    "    }\n",
    "    api2 = Cov19API(filters=filters, structure=structure)\n",
    "    timeseries=api2.get_json()\n",
    "    #agedistribution=api.get_json()\n",
    "    \n",
    "    return timeseries\n",
    "    #return agedistribution\n",
    "\n",
    "timedata = {}\n",
    "with open(\"timeseries.json\", \"rt\") as INFILE2:\n",
    "    timedata = json.load(INFILE2)\n",
    "\n",
    "#print (timedata)"
   ]
  },
  {
   "cell_type": "code",
   "execution_count": 36,
   "metadata": {},
   "outputs": [],
   "source": [
    "def wrangle_data2(rawdata):\n",
    "    datalist=timedata['data']\n",
    "    dates=[dictionary['date'] for dictionary in datalist]\n",
    "    dates.sort()\n",
    "   \n",
    "    def parse_date(datestring):\n",
    "        return pd.to_datetime(datestring, format='%Y-%m-%d')\n",
    "    \n",
    "    startdate=parse_date(dates[0])\n",
    "    enddate=parse_date(dates[-1])\n",
    "    \n",
    "    index=pd.date_range(startdate, enddate, freq='D')\n",
    "    timeseriesdf=pd.DataFrame(index=index, columns=['cases', 'hospital', 'deaths'])\n",
    "    \n",
    "    for entry in datalist:\n",
    "        date=parse_date(entry['date'])\n",
    "        for column in ['cases', 'hospital', 'deaths']:\n",
    "            if pd.isna(timeseriesdf.loc[date, column]):\n",
    "                value = float(entry[column]) if entry[column]!=None else 0.0\n",
    "                timeseriesdf.loc[date, column] = value\n",
    "    \n",
    "    timeseriesdf.fillna(0.0, inplace=True)\n",
    "    \n",
    "    return timeseriesdf\n",
    "\n",
    "timeseriesdf = wrangle_data2(timedata)\n",
    "\n",
    "#print (timeseriesdf)"
   ]
  },
  {
   "cell_type": "code",
   "execution_count": 37,
   "metadata": {},
   "outputs": [
    {
     "data": {
      "application/vnd.jupyter.widget-view+json": {
       "model_id": "bf7feff661b14d0285cc9ad7309c9af7",
       "version_major": 2,
       "version_minor": 0
      },
      "text/plain": [
       "HBox(children=(SelectMultiple(description='Stats:', index=(0, 1, 2), options=('cases', 'hospital', 'deaths'), …"
      ]
     },
     "metadata": {},
     "output_type": "display_data"
    },
    {
     "data": {
      "application/vnd.jupyter.widget-view+json": {
       "model_id": "06f2ce307cc94fa4a7879f0415aeb9cf",
       "version_major": 2,
       "version_minor": 0
      },
      "text/plain": [
       "Output()"
      ]
     },
     "metadata": {},
     "output_type": "display_data"
    },
    {
     "data": {
      "application/vnd.jupyter.widget-view+json": {
       "model_id": "48c460e073d942b3a80133ace3083cdf",
       "version_major": 2,
       "version_minor": 0
      },
      "text/plain": [
       "Button(description='Refresh data', icon='refresh', style=ButtonStyle(), tooltip='Click to download current Pub…"
      ]
     },
     "metadata": {},
     "output_type": "display_data"
    }
   ],
   "source": [
    "#timeseriesdf=pd.read_pickle(\"timeseriesdf.pkl\")\n",
    "\n",
    "def api_button_callback2(button):\n",
    "    apidata2=access_api2()\n",
    "    global df\n",
    "    df=wrangle_data2(apidata2)\n",
    "    refresh_graph2()\n",
    "    apibutton.icon=\"check\"\n",
    "    now = datetime.now()\n",
    "    current_time = now.strftime(\"%H:%M:%S\")\n",
    "    print(\"Last updated at\", current_time)\n",
    "\n",
    "def refresh_graph2():\n",
    "    current=series.value[0]\n",
    "    if current==series.options[0]:\n",
    "        other=series.options[1]\n",
    "    else:\n",
    "        other=series.options[0]\n",
    "    series.value=(other, ) \n",
    "    series.value=(current, ) \n",
    "    \n",
    "apibutton=wdg.Button(\n",
    "    description='Refresh data',\n",
    "    disabled=False,\n",
    "    button_style='', \n",
    "    tooltip='Click to download current Public Health England data',\n",
    "    icon='refresh')\n",
    "\n",
    "series=wdg.SelectMultiple(\n",
    "    options=['cases', 'hospital', 'deaths'],\n",
    "    value=['cases', 'hospital', 'deaths'],\n",
    "    rows=3,\n",
    "    description='Stats:',\n",
    "    disabled=False)\n",
    "\n",
    "scale=wdg.RadioButtons(\n",
    "    options=['linear', 'log'],\n",
    "    value='linear',\n",
    "    description='Scale:',\n",
    "    disabled=False)\n",
    "\n",
    "controls=wdg.HBox([series, scale])\n",
    "\n",
    "def timeseries_graph(gcols, gscale):\n",
    "    if gscale=='linear':\n",
    "        logscale=False\n",
    "    else:\n",
    "        logscale=True\n",
    "    ncols=len(gcols)\n",
    "    if ncols>0:\n",
    "        timeseriesdf[list(gcols)].plot(logy=logscale)\n",
    "        plt.title(\"COVID-19 Cases, Hospital Admissions and Deaths\")\n",
    "        plt.xlabel(\"Months\")\n",
    "        plt.ylabel(\"Total Number\")\n",
    "    else:\n",
    "        print(\"Click to select data for graph\")\n",
    "        print(\"(CTRL-Click to select more than one category)\")\n",
    " \n",
    "graph=wdg.interactive_output(timeseries_graph, {'gcols': series, 'gscale': scale})\n",
    "\n",
    "display(controls, graph)\n",
    "\n",
    "apibutton.on_click(api_button_callback2)\n",
    "display(apibutton)"
   ]
  },
  {
   "cell_type": "markdown",
   "metadata": {},
   "source": [
    "## COVID-19 Cases by Age and Sex\n",
    "\n",
    "The following bar chart displays the number of COVID-19 cases by age and sex in the UK.\n",
    "You can CTRL-click to select multiple categories. To get updated data, click on the \"Refresh data\" button underneath the chart."
   ]
  },
  {
   "cell_type": "code",
   "execution_count": 38,
   "metadata": {},
   "outputs": [],
   "source": [
    "def access_api(): \n",
    "    filters = ['areaType=nation',\n",
    "               'areaName=England']\n",
    "\n",
    "    structure = {\n",
    "        \"males\": \"maleCases\",\n",
    "        \"females\": \"femaleCases\"\n",
    "    }\n",
    "    api = Cov19API(filters=filters, structure=structure)\n",
    "    agedistribution=api.get_json()\n",
    "    \n",
    "    return agedistribution\n",
    "\n",
    "import json\n",
    "jsondata = {}\n",
    "with open(\"agedistribution.json\", \"rt\") as INFILE:\n",
    "    jsondata = json.load(INFILE)\n",
    "\n",
    "#print (jsondata)"
   ]
  },
  {
   "cell_type": "code",
   "execution_count": 39,
   "metadata": {},
   "outputs": [],
   "source": [
    "def wrangle_data(rawdata):\n",
    "    datadic=jsondata['data'][0]\n",
    "    males=datadic['males']\n",
    "    females=datadic['females']\n",
    "    ageranges=[x['age'] for x in males] \n",
    "    \n",
    "    def min_age(agerange):\n",
    "        agerange=agerange.replace('+','') \n",
    "        start=agerange.split('_')[0]\n",
    "        return int(start)\n",
    "    \n",
    "    ageranges.sort(key=min_age)\n",
    "    age_df=pd.DataFrame(index=ageranges, columns=['males','females', 'total'])\n",
    "    \n",
    "    for entry in males: \n",
    "        ageband=entry['age'] \n",
    "        age_df.loc[ageband, 'males']=entry['value']\n",
    "    \n",
    "    for entry in females:\n",
    "        ageband=entry['age']\n",
    "        age_df.loc[ageband, 'females']=entry['value']\n",
    "    \n",
    "    age_df['total']=age_df['males'] + age_df['females']\n",
    "    \n",
    "    return age_df\n",
    "\n",
    "age_df = wrangle_data(jsondata)"
   ]
  },
  {
   "cell_type": "code",
   "execution_count": 40,
   "metadata": {},
   "outputs": [],
   "source": [
    "def api_button_callback(button):\n",
    "    apidata=access_api()\n",
    "    global df\n",
    "    df=wrangle_data(apidata)\n",
    "    refresh_graph()\n",
    "    apibutton.icon=\"check\"\n",
    "    now = datetime.now()\n",
    "    current_time = now.strftime(\"%H:%M:%S\")\n",
    "    print(\"Last updated at\", current_time)"
   ]
  },
  {
   "cell_type": "code",
   "execution_count": 30,
   "metadata": {},
   "outputs": [],
   "source": [
    "#age_df=pd.read_pickle(\"agedf.pkl\")\n",
    "\n",
    "agegraph=wdg.SelectMultiple(\n",
    "    options=['males', 'females', 'total'],\n",
    "    value=['males', 'females'],\n",
    "    rows=3,\n",
    "    description='Stats:',\n",
    "    disabled=False)\n",
    "\n",
    "def refresh_graph():\n",
    "    current=agegraph.value[0]\n",
    "    if current==agegraph.options[0]:\n",
    "        other=agegraph.options[1]\n",
    "    else:\n",
    "        other=agegraph.options[0]\n",
    "    agegraph.value=(other, ) \n",
    "    agegraph.value=(current, ) "
   ]
  },
  {
   "cell_type": "code",
   "execution_count": 41,
   "metadata": {},
   "outputs": [
    {
     "data": {
      "application/vnd.jupyter.widget-view+json": {
       "model_id": "8d1268da46614c4db89519a391b0e089",
       "version_major": 2,
       "version_minor": 0
      },
      "text/plain": [
       "SelectMultiple(description='Stats:', index=(0, 1), options=('males', 'females', 'total'), rows=3, value=('male…"
      ]
     },
     "metadata": {},
     "output_type": "display_data"
    },
    {
     "data": {
      "application/vnd.jupyter.widget-view+json": {
       "model_id": "ee2881770f444d4fbc5f2603ad635123",
       "version_major": 2,
       "version_minor": 0
      },
      "text/plain": [
       "Output()"
      ]
     },
     "metadata": {},
     "output_type": "display_data"
    },
    {
     "data": {
      "application/vnd.jupyter.widget-view+json": {
       "model_id": "ec4311f25ebe4db1a90a9607be475ded",
       "version_major": 2,
       "version_minor": 0
      },
      "text/plain": [
       "Button(description='Refresh data', icon='refresh', style=ButtonStyle(), tooltip='Click to download current Pub…"
      ]
     },
     "metadata": {},
     "output_type": "display_data"
    }
   ],
   "source": [
    "apibutton2=wdg.Button(\n",
    "    description='Refresh data',\n",
    "    disabled=False,\n",
    "    button_style='', \n",
    "    tooltip='Click to download current Public Health England data',\n",
    "    icon='refresh')\n",
    "\n",
    "def age_graph(gcolumn):\n",
    "    ncols=len(gcolumn)\n",
    "    if ncols>0:\n",
    "        age_df.plot(kind='bar', y=list(gcolumn))\n",
    "        plt.title(\"COVID-19 Cases by Age and Sex\")\n",
    "        plt.xlabel(\"Age Group\")\n",
    "        plt.ylabel(\"Total Number\")\n",
    "    else:\n",
    "        print(\"Click to select data for graph\")\n",
    "        print(\"(CTRL-Click to select more than one category)\")\n",
    " \n",
    "output=wdg.interactive_output(age_graph, {'gcolumn': agegraph})\n",
    "\n",
    "display(agegraph, output)\n",
    "\n",
    "apibutton2.on_click(api_button_callback)\n",
    "display(apibutton2)"
   ]
  },
  {
   "cell_type": "markdown",
   "metadata": {},
   "source": [
    "**Author and Copyright Notice** \n",
    "*Based on UK Government [data](https://coronavirus.data.gov.uk/) published by [Public Health England](https://www.gov.uk/government/organisations/public-health-england).*\n",
    "\n",
    "[DIY Covid-19 Dashboard Kit](https://github.com/fsmeraldi/diy-covid19dash) (C) Joey Fung, 2020 ([ec20174@qmul.ac.uk](mailto:ec20174@qmul.ac.uk)). All rights reserved."
   ]
  },
  {
   "cell_type": "code",
   "execution_count": null,
   "metadata": {},
   "outputs": [],
   "source": []
  }
 ],
 "metadata": {
  "kernelspec": {
   "display_name": "Python 3",
   "language": "python",
   "name": "python3"
  },
  "language_info": {
   "codemirror_mode": {
    "name": "ipython",
    "version": 3
   },
   "file_extension": ".py",
   "mimetype": "text/x-python",
   "name": "python",
   "nbconvert_exporter": "python",
   "pygments_lexer": "ipython3",
   "version": "3.8.3"
  }
 },
 "nbformat": 4,
 "nbformat_minor": 4
}
